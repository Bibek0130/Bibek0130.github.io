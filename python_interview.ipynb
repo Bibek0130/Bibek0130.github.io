{
  "nbformat": 4,
  "nbformat_minor": 0,
  "metadata": {
    "colab": {
      "provenance": [],
      "authorship_tag": "ABX9TyOq7OFHi/saNtEagq/PljSS",
      "include_colab_link": true
    },
    "kernelspec": {
      "name": "python3",
      "display_name": "Python 3"
    },
    "language_info": {
      "name": "python"
    }
  },
  "cells": [
    {
      "cell_type": "markdown",
      "metadata": {
        "id": "view-in-github",
        "colab_type": "text"
      },
      "source": [
        "<a href=\"https://colab.research.google.com/github/Bibek0130/Bibek0130.github.io/blob/master/python_interview.ipynb\" target=\"_parent\"><img src=\"https://colab.research.google.com/assets/colab-badge.svg\" alt=\"Open In Colab\"/></a>"
      ]
    },
    {
      "cell_type": "markdown",
      "source": [
        "###Python Interview"
      ],
      "metadata": {
        "id": "FmaOeedn92s9"
      }
    },
    {
      "cell_type": "markdown",
      "source": [
        "Assignment 1:\n",
        "Write a program to reverse an integer in Python.\n",
        "Write a program in Python to check whether an integer is Armstrong number or not.\n",
        "Write a program in Python to check given number is prime or not.\n",
        "Write a program in Python to print the Fibonacci series using iterative method.\n",
        "Write a program in Python to print the Fibonacci series using recursive method.\n",
        "Write a program in Python to check whether a number is palindrome or not using iterative method.\n",
        "Write a program in Python to check whether a number is palindrome or not using recursive method.\n",
        "Write a program in Python to find greatest among three integers.\n",
        "Write a program in Python to check if a number is binary?\n",
        "Write a program in Python to find sum of digits of a number using recursion?"
      ],
      "metadata": {
        "id": "UlMPox_0-LRT"
      }
    },
    {
      "cell_type": "code",
      "execution_count": null,
      "metadata": {
        "colab": {
          "base_uri": "https://localhost:8080/"
        },
        "id": "emZJFgta91AX",
        "outputId": "acf0288e-b3af-4c64-f10f-0a1f6fc27116"
      },
      "outputs": [
        {
          "output_type": "execute_result",
          "data": {
            "text/plain": [
              "321"
            ]
          },
          "metadata": {},
          "execution_count": 5
        }
      ],
      "source": [
        "#Write a program to reverse an integer in python\n",
        "def reverse_number(num):\n",
        "  reverse_num=0\n",
        "  while num!=0:\n",
        "    digit=num%10\n",
        "    reverse_num=reverse_num*10+digit\n",
        "    num=num//10\n",
        "  return reverse_num\n",
        "\n",
        "reverse_number(123)\n"
      ]
    },
    {
      "cell_type": "code",
      "source": [
        "#Wirte a program in python to check whether an integer is armstrong or not.\n",
        "def armstrong_number(num):\n",
        "  sum=0\n",
        "  p=len(str(num))\n",
        "  temp = num\n",
        "  while temp>0:\n",
        "    digit=temp%10\n",
        "    sum= digit ** p + sum\n",
        "    temp=temp//10\n",
        "\n",
        "  #checking if the number is palindrome or not\n",
        "  if (num == sum):\n",
        "    print('The number {num} is palindrome.')\n",
        "  else:\n",
        "    print('The number {num} is not a palindrome')\n",
        "\n",
        "#call the function\n",
        "armstrong_number(153)"
      ],
      "metadata": {
        "colab": {
          "base_uri": "https://localhost:8080/"
        },
        "id": "HaS2nyj6BZkn",
        "outputId": "0700b42f-f740-44b0-f0c9-3cc6fd33ad67"
      },
      "execution_count": null,
      "outputs": [
        {
          "output_type": "stream",
          "name": "stdout",
          "text": [
            "The number {num} is palindrome.\n"
          ]
        }
      ]
    },
    {
      "cell_type": "code",
      "source": [
        "#Write a program to chheck whether a given numbeer is prime or not\n",
        "\n",
        "def prime_number(num):\n",
        "  count =0\n",
        "  for i in range(13,int(num)):\n",
        "    if num%i==0:\n",
        "      count=count+1\n",
        " # checking if the number is prime or not\n",
        "  if count == 0:\n",
        "    return 'Prime Number'\n",
        "  else:\n",
        "    return 'Composite Number'\n",
        "\n",
        "prime_number(1009)\n"
      ],
      "metadata": {
        "colab": {
          "base_uri": "https://localhost:8080/",
          "height": 36
        },
        "id": "m12tffAQGDCd",
        "outputId": "5a3d9b3b-30d1-43c9-b9a5-8e4aa3a1c43a"
      },
      "execution_count": null,
      "outputs": [
        {
          "output_type": "execute_result",
          "data": {
            "text/plain": [
              "'Prime Number'"
            ],
            "application/vnd.google.colaboratory.intrinsic+json": {
              "type": "string"
            }
          },
          "metadata": {},
          "execution_count": 22
        }
      ]
    },
    {
      "cell_type": "code",
      "source": [
        "#Write a program in python to print fibonacci series using iterative method\n",
        "def fibonacci_number(num):\n",
        "  a,b = 0,1\n",
        "  print(a)\n",
        "  print(b)\n",
        "  for i in range(2, num):\n",
        "    c=a+b\n",
        "    print(c)\n",
        "    a=b\n",
        "    b=c\n",
        "\n",
        "fibonacci_number(10)"
      ],
      "metadata": {
        "colab": {
          "base_uri": "https://localhost:8080/"
        },
        "id": "XCmkDTFG122p",
        "outputId": "28cd5463-33a9-45af-a3a0-574113cec0ad"
      },
      "execution_count": null,
      "outputs": [
        {
          "output_type": "stream",
          "name": "stdout",
          "text": [
            "0\n",
            "1\n",
            "1\n",
            "2\n",
            "3\n",
            "5\n",
            "8\n",
            "13\n",
            "21\n",
            "34\n"
          ]
        }
      ]
    },
    {
      "cell_type": "code",
      "source": [
        "#Write a program in python to see whether a number is palindrome or not\n",
        "def palindrome(num):\n",
        "  reverse_num=0\n",
        "  temp=num\n",
        "  while num!=0:\n",
        "    digit=temp%10\n",
        "    reverse_num=reverse_num*10+digit\n",
        "    temp=temp//10\n",
        "\n",
        "  #checking for palindrome\n",
        "  if num==reverse_num:\n",
        "    print('\\t Palindrome')\n",
        "  else:\n",
        "    print('\\t Not Palindrome')\n",
        "\n",
        "palindrome(16461)"
      ],
      "metadata": {
        "id": "ZTeNJXD04Psq"
      },
      "execution_count": null,
      "outputs": []
    },
    {
      "cell_type": "code",
      "source": [
        "#Write a program in Python to find greatest among three integers.\n",
        "def greatest_num(a,b,c):\n",
        "  #chcking which number is greatest\n",
        "  if a >b and a>c:\n",
        "    print(a+'is greatest number')\n",
        "  elif b>a and b>c:\n",
        "    print(ab+'is greatest number')\n",
        "  else:\n",
        "    print(c,'is greatest number')\n",
        "\n",
        "greatest_num(10,11,12)"
      ],
      "metadata": {
        "id": "msijVoz68xPN",
        "colab": {
          "base_uri": "https://localhost:8080/"
        },
        "outputId": "7816180c-bd83-4763-8b50-2a32b6c7f026"
      },
      "execution_count": null,
      "outputs": [
        {
          "output_type": "stream",
          "name": "stdout",
          "text": [
            "12 is greatest number\n"
          ]
        }
      ]
    },
    {
      "cell_type": "code",
      "source": [
        "#Write a program to check if the number is binary or not\n",
        "def binary_check(num):\n",
        "  for digit in str(num):\n",
        "    if digit not in ['0','1']:\n",
        "      return False\n",
        "  return True\n",
        "\n",
        "binary_check(101)"
      ],
      "metadata": {
        "colab": {
          "base_uri": "https://localhost:8080/"
        },
        "id": "uZEIT2HcKIEF",
        "outputId": "c6553937-6f4f-4948-835d-fe0b31e3a5a2"
      },
      "execution_count": null,
      "outputs": [
        {
          "output_type": "execute_result",
          "data": {
            "text/plain": [
              "True"
            ]
          },
          "metadata": {},
          "execution_count": 11
        }
      ]
    },
    {
      "cell_type": "code",
      "source": [
        "#Write a program in python to find the sum of digits using recursion\n",
        "def sum_of_digits(number):\n",
        "  if number < 10:\n",
        "    return number\n",
        "\n",
        "    # Recursive case: sum the last digit with the sum of digits of the remaining number\n",
        "  else:\n",
        "    return number % 10 + sum_of_digits(number // 10)\n",
        "sum_of_digits(351001317350)\n"
      ],
      "metadata": {
        "colab": {
          "base_uri": "https://localhost:8080/"
        },
        "id": "cP9V8vD2Rdxh",
        "outputId": "8a3b42a1-cbdf-4973-db63-fa86bcc60a8d"
      },
      "execution_count": null,
      "outputs": [
        {
          "output_type": "execute_result",
          "data": {
            "text/plain": [
              "29"
            ]
          },
          "metadata": {},
          "execution_count": 17
        }
      ]
    },
    {
      "cell_type": "code",
      "source": [
        "#class declaration (class ClassName)\n",
        "#The class keyword is used to declarte a class in python\n",
        "#The ClassName is the name of the class, typically followinfg came!case naming conventions\n",
        "class vehicle:\n",
        "#Class Attributes\n",
        "#class attributes are variables shared among all class instances (objects)\n",
        "#They are defined within the class but outside of any methods\n",
        "  max_speed = 120\n",
        "  def __init__(self, make, model, color, speed=0):\n",
        "    self.make=make\n",
        "    self.model=model\n",
        "    self.color= color\n",
        "    self.speed=speed\n",
        "\n",
        "  #Method for accelerating the car\n",
        "  def accelerate(self, acceleration):\n",
        "    if self.speed + acceleration <= vehicle.max_speed:\n",
        "      self.speed+=acceleration\n",
        "    else:\n",
        "      self.speed=vehicle.max_speed\n",
        "\n",
        "  #Method to get the curent speed of the car\n",
        "  def get_speed(self):\n",
        "    return self.speed\n",
        "\n"
      ],
      "metadata": {
        "id": "6cqnfisZSFDb"
      },
      "execution_count": null,
      "outputs": []
    },
    {
      "cell_type": "code",
      "source": [
        "#Now, YOu will instantinate tow objects of the car class, each with the follwoing characteristics\n",
        "#create objects instances of the vehicle class\n",
        "vehicle1 = vehicle('Toyota','Camry','Blue')\n",
        "vehicle2 = vehicle('Honda','Civic','Red')"
      ],
      "metadata": {
        "id": "4N5aqC8Faibr"
      },
      "execution_count": null,
      "outputs": []
    },
    {
      "cell_type": "code",
      "source": [
        "#Using the accelerate method, you will increase the speed of the car1 by 30km/hr and car2 ny 20km/hr\n",
        "vehicle1.accelerate(20)\n",
        "vehicle2.accelerate(59)"
      ],
      "metadata": {
        "id": "K19vAr7bbNy3"
      },
      "execution_count": null,
      "outputs": []
    },
    {
      "cell_type": "code",
      "source": [
        "#Print the current speed of the car\n",
        "print(f\"{vehicle1.make} {vehicle1.model} is currently at {vehicle1.get_speed()} km/hr\")\n",
        "print(f\"{vehicle2.make} {vehicle2.model} is currently at {vehicle2.get_speed()} km/hr\")"
      ],
      "metadata": {
        "colab": {
          "base_uri": "https://localhost:8080/"
        },
        "id": "q2AYFhL6cLej",
        "outputId": "61ac5d91-353b-4867-deeb-c3136f0d7df4"
      },
      "execution_count": null,
      "outputs": [
        {
          "output_type": "stream",
          "name": "stdout",
          "text": [
            "Toyota Camry is currently at 20 km/hr\n",
            "Honda Civic is currently at 59 km/hr\n"
          ]
        }
      ]
    },
    {
      "cell_type": "code",
      "source": [
        "#acceleraing vehicle1 by 50 km/hr\n",
        "vehicle1.accelerate(20)\n",
        "#Print the current speed of the car\n",
        "print(f\"{vehicle1.make} {vehicle1.model} is currently at {vehicle1.get_speed()} km/hr\")\n",
        "print(f\"{vehicle2.make} {vehicle2.model} is currently at {vehicle2.get_speed()} km/hr\")"
      ],
      "metadata": {
        "colab": {
          "base_uri": "https://localhost:8080/"
        },
        "id": "chXGvcr9dn1J",
        "outputId": "48ea5930-5e26-45b3-9bd4-bfa3f3af4745"
      },
      "execution_count": null,
      "outputs": [
        {
          "output_type": "stream",
          "name": "stdout",
          "text": [
            "Toyota Camry is currently at 120 km/hr\n",
            "Honda Civic is currently at 59 km/hr\n"
          ]
        }
      ]
    },
    {
      "cell_type": "code",
      "source": [
        "vehicle2.accelerate(20)\n",
        "#Print the current speed of the car\n",
        "print(f\"{vehicle1.make} {vehicle1.model} is currently at {vehicle1.get_speed()} km/hr\")\n",
        "print(f\"{vehicle2.make} {vehicle2.model} is currently at {vehicle2.get_speed()} km/hr\")"
      ],
      "metadata": {
        "colab": {
          "base_uri": "https://localhost:8080/"
        },
        "id": "_6sZKFhMeNuG",
        "outputId": "3e2417b1-bea7-4361-87b6-a50fd5591125"
      },
      "execution_count": null,
      "outputs": [
        {
          "output_type": "stream",
          "name": "stdout",
          "text": [
            "Toyota Camry is currently at 120 km/hr\n",
            "Honda Civic is currently at 79 km/hr\n"
          ]
        }
      ]
    },
    {
      "cell_type": "markdown",
      "source": [
        "###Text Analysis\n"
      ],
      "metadata": {
        "id": "k6PfMd8bhKhy"
      }
    },
    {
      "cell_type": "code",
      "source": [
        "#step1: Define a string\n",
        "given_string = 'Human beings believe that they live their life in a conscious manner; that they are aware of their surroundings and know what is going on around them at all times. Yet deeper analysis of the word conscious leads to a more confusing thought process than a human being may be able to grasp. The Personal and Collective Unconscious by Carl Jung believes that “the unconscious contains only those parts of the personality which could just as well be conscious and are in fact suppressed only through upbringing”(344). In a more simplistic form, he says that the human brain is actually a more unconscious thought process and that what the brain produces to be conscious can actually be described as unconscious. Francis Crick’s The General Nature of …show more content… Jung states that “the unconscious contains all those psychic components that have fallen below the threshold, including subliminal sense perceptions”(344-345). The honest answer for most people would be no, and thus reinforcing the belief that our unconsciousness, at least, controls part of what we describe and believe to be conscious. This is a theory that both Jung and Crick believe in, and have written to great length on at support their own hypotheses. Crick goes into great length to tell his readers that psychology is at a loss and in a great dispute about what, in fact, the conscious and unconscious truly are. Crick states that even though humans live in a state of total awareness all of their life, except when asleep, that even if they think that the body and mind are controlled by the conscious, the mind spends more time performing more unconscious thoughts and processes than it does performing the conscious ones. He believes that the brain only makes things seem to be conscious for our own sakes of grasping what occurs around us.'\n"
      ],
      "metadata": {
        "id": "XTsJt_kshGO0"
      },
      "execution_count": null,
      "outputs": []
    },
    {
      "cell_type": "code",
      "source": [],
      "metadata": {
        "id": "DYS-dg78Ft0C"
      },
      "execution_count": null,
      "outputs": []
    },
    {
      "cell_type": "markdown",
      "source": [],
      "metadata": {
        "id": "h9jWqFnWFglm"
      }
    },
    {
      "cell_type": "code",
      "source": [
        "#Define the class and its attributes\n",
        "#create a class named TextAnalyzer\n",
        "#Define the constructor __init__ method that takes a text argument\n",
        "class TextAnalyzer(object):\n",
        "  #the __init__ method initializes the class with a text parameter\n",
        "  #you will store the provided 'text' as an instance variable.\n",
        "  def __init__(self, text):\n",
        "    #remove punctuation\n",
        "    formattedText = text.replace('.','').replace('!','').replace('?','').replace(',','')\n",
        "    #make text lowercase\n",
        "    formattedText = formattedText.lower()\n",
        "\n",
        "    self.fmtText = formattedText\n",
        "\n",
        "  #create a method named freqAll() method and split thye fmtText. Create a dictionary to store the word frequency\n",
        "  def freqAll(self):\n",
        "    #split text into words\n",
        "    wordlist = self.fmtText.split(' ')\n",
        "    #create a dictinoary\n",
        "    freqMap = {}\n",
        "    for word in set(wordlist): #used to remove duplicates in the list\n",
        "      freqMap[word] = wordlist.count(word)\n",
        "    return freqMap\n",
        "\n",
        "  #implement freqof(word) that checks if the word is in the list. Return the count.\n",
        "  #If the word is not found the count will return\n",
        "  def freqof(self, word):\n",
        "    #get dictionary map\n",
        "    freqDict = self.freqAll()\n",
        "\n",
        "    if word in freqDict:\n",
        "      return freqDict[word]\n",
        "    else:\n",
        "      return 0\n",
        "\n"
      ],
      "metadata": {
        "id": "7H3l5HkAhoRi"
      },
      "execution_count": null,
      "outputs": []
    },
    {
      "cell_type": "code",
      "source": [
        "analyzed = TextAnalyzer(given_string)\n",
        "print(\"Formatted Text: \", analyzed.fmtText)\n",
        "word = 'jung'\n",
        "frequency = analyzed.freqof(word)\n",
        "print(\"The word\",word,\"appears\",frequency,\"times.\")"
      ],
      "metadata": {
        "colab": {
          "base_uri": "https://localhost:8080/"
        },
        "id": "NYq6N9JZmc3-",
        "outputId": "46017969-625a-48e3-d669-95340876cc7a"
      },
      "execution_count": null,
      "outputs": [
        {
          "output_type": "stream",
          "name": "stdout",
          "text": [
            "Formatted Text:  human beings believe that they live their life in a conscious manner; that they are aware of their surroundings and know what is going on around them at all times yet deeper analysis of the word conscious leads to a more confusing thought process than a human being may be able to grasp the personal and collective unconscious by carl jung believes that “the unconscious contains only those parts of the personality which could just as well be conscious and are in fact suppressed only through upbringing”(344) in a more simplistic form he says that the human brain is actually a more unconscious thought process and that what the brain produces to be conscious can actually be described as unconscious francis crick’s the general nature of …show more content… jung states that “the unconscious contains all those psychic components that have fallen below the threshold including subliminal sense perceptions”(344-345) the honest answer for most people would be no and thus reinforcing the belief that our unconsciousness at least controls part of what we describe and believe to be conscious this is a theory that both jung and crick believe in and have written to great length on at support their own hypotheses crick goes into great length to tell his readers that psychology is at a loss and in a great dispute about what in fact the conscious and unconscious truly are crick states that even though humans live in a state of total awareness all of their life except when asleep that even if they think that the body and mind are controlled by the conscious the mind spends more time performing more unconscious thoughts and processes than it does performing the conscious ones he believes that the brain only makes things seem to be conscious for our own sakes of grasping what occurs around us\n",
            "The word jung appears 3 times.\n"
          ]
        }
      ]
    },
    {
      "cell_type": "code",
      "source": [
        " #write a program in python to find the largest and secondf-largest element in a list using python\n",
        "#Defining a function\n",
        "def LargestAndSecondLargest(Data):\n",
        "  #sorting the list in ascending order\n",
        "  Data = sorted(Data)\n",
        "  #Extracting the last element\n",
        "  LargestElement = Data[-1]\n",
        "  #Extracting the second largest element\n",
        "  SecondlargestElement = Data[-2]\n",
        "  #returniong the variables containing the elements\n",
        "  return LargestElement, SecondlargestElement\n",
        "\n",
        "Data = [20, 15, 8, 12, 19]\n",
        "LargestAndSecondLargest(Data)"
      ],
      "metadata": {
        "id": "0grTYLSmG3kd",
        "colab": {
          "base_uri": "https://localhost:8080/"
        },
        "outputId": "02146549-b8e6-4141-e6f2-da1e8a9abfe3"
      },
      "execution_count": null,
      "outputs": [
        {
          "output_type": "execute_result",
          "data": {
            "text/plain": [
              "(20, 19)"
            ]
          },
          "metadata": {},
          "execution_count": 4
        }
      ]
    },
    {
      "cell_type": "code",
      "source": [
        "#create a python program that will print the hightest sequence of 1s in an array of 0s and 1s\n",
        "a = [1,1,1,1,0,1,1,1,1,1,1,1,1,0,1,1,1,1,1]\n",
        "#variable to store the count of one\n",
        "countofOne = 0\n",
        "#variable to store the previous count if the countofOne is greater than the lastCountofOne\n",
        "LastCountofOne = 0\n",
        "\n",
        "#For loop to traverse through all the elements in the array\n",
        "for i in range(len(a)):\n",
        "  #check if the element is 1\n",
        "  if a[i] == 1:\n",
        "    #couont increased by 1\n",
        "    countofOne += 1\n",
        "  else:\n",
        "    #checking if countofOne &amp;lt; LastCountofOne\n",
        "    if (lastCountofOne &amp;lt; countofOne):\n",
        "      #swapping the value to LastCountofOne if the above condition is True\n",
        "      LastCountofOne = countofOne\n",
        "      #set countofOne to zero as we are interrupted by zerp\n",
        "      countofOne = 0\n",
        "\n",
        "#comparing the last value of countofOne with LastCountofOne\n",
        "if(LastCountofOne &amp;gt; countofOne):\n",
        "  #print LastCountofOne\n",
        "  print(LastCountofOne)\n",
        "else:\n",
        "  print(countofOne)"
      ],
      "metadata": {
        "id": "V-c8EP17wbcC"
      },
      "execution_count": null,
      "outputs": []
    },
    {
      "cell_type": "code",
      "source": [
        "#write a list comprehension that will print the sum of even numbers.\n",
        "#sample data in a list\n",
        "sample = [1,2,3,4,5,6,7,8,9,10]\n",
        "Sum = 0\n",
        "#Looping through elements in the list and checking if it is an even number.\n",
        "Sum = sum([x for x in sample if x%2 == 0])\n",
        "#printing the Sum of Even numbers\n",
        "print(Sum)"
      ],
      "metadata": {
        "id": "AQwzlrmJzOkP",
        "colab": {
          "base_uri": "https://localhost:8080/"
        },
        "outputId": "bb873279-d807-4d1a-bacf-61bbc69ad860"
      },
      "execution_count": null,
      "outputs": [
        {
          "output_type": "stream",
          "name": "stdout",
          "text": [
            "30\n"
          ]
        }
      ]
    },
    {
      "cell_type": "code",
      "source": [
        "#write a function to output seperate lists containng even and odd numbers from a given array.\n",
        "#Defining a function\n",
        "def EvenOdd(Data):\n",
        "  #checking if the number is even\n",
        "  print([x for x in Data if x%2==0])\n",
        "  #checking and printing if the number is odd\n",
        "  print([x for x in Data if x%2 != 0])\n",
        "\n",
        "#Sample data\n",
        "Data = [1,2,3,4,5,6,7,8,9,10]\n",
        "#Function call\n",
        "EvenOdd(Data)"
      ],
      "metadata": {
        "id": "uZeUE7zw0Ge7",
        "colab": {
          "base_uri": "https://localhost:8080/"
        },
        "outputId": "04e12b69-0ff0-48f0-f9b8-e573976b6513"
      },
      "execution_count": null,
      "outputs": [
        {
          "output_type": "stream",
          "name": "stdout",
          "text": [
            "[2, 4, 6, 8, 10]\n",
            "[1, 3, 5, 7, 9]\n"
          ]
        }
      ]
    },
    {
      "cell_type": "code",
      "source": [
        "#create a python program to depict the functioning of stacks and queues.\n",
        "stack = []\n",
        "x = list(range(0,10,3))\n",
        "for i in range(1,6):\n",
        "  if i< len(x):\n",
        "    stack.append(x[i])\n",
        "  else:\n",
        "    stack.pop()\n",
        "  print(stack)"
      ],
      "metadata": {
        "colab": {
          "base_uri": "https://localhost:8080/"
        },
        "id": "DhUPa52G-BM4",
        "outputId": "36c551c1-22cf-473b-d463-a1b38550d040"
      },
      "execution_count": null,
      "outputs": [
        {
          "output_type": "stream",
          "name": "stdout",
          "text": [
            "[3]\n",
            "[3, 6]\n",
            "[3, 6, 9]\n",
            "[3, 6]\n",
            "[3]\n"
          ]
        }
      ]
    },
    {
      "cell_type": "code",
      "source": [
        "x = list(range(1,4))\n",
        "print(x)"
      ],
      "metadata": {
        "colab": {
          "base_uri": "https://localhost:8080/"
        },
        "id": "EG-eM46--_Ms",
        "outputId": "bf0aa34b-cc0c-44a5-aa67-71ecabd5fabb"
      },
      "execution_count": null,
      "outputs": [
        {
          "output_type": "stream",
          "name": "stdout",
          "text": [
            "[1, 2, 3]\n"
          ]
        }
      ]
    }
  ]
}